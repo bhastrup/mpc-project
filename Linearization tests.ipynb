{
 "cells": [
  {
   "cell_type": "code",
   "execution_count": 10,
   "metadata": {},
   "outputs": [],
   "source": [
    "# import packages\n",
    "import numpy as np\n",
    "import pystan"
   ]
  },
  {
   "cell_type": "markdown",
   "metadata": {},
   "source": [
    "Initialization"
   ]
  },
  {
   "cell_type": "code",
   "execution_count": 11,
   "metadata": {},
   "outputs": [],
   "source": [
    "N_slots = 10\n",
    "cost = np.random.rand(N_slots)\n",
    "bid = np.random.rand(N_slots)\n",
    "ws = np.linspace(0.1, 1, num=N_slots) \n",
    "weights = ws / sum(ws)"
   ]
  },
  {
   "cell_type": "markdown",
   "metadata": {},
   "source": [
    "Setup Stan"
   ]
  },
  {
   "cell_type": "code",
   "execution_count": 12,
   "metadata": {},
   "outputs": [],
   "source": [
    "# Stan initialization\n",
    "iterations = 5000\n",
    "warms = 1000\n",
    "chains = 4"
   ]
  },
  {
   "cell_type": "code",
   "execution_count": 13,
   "metadata": {},
   "outputs": [],
   "source": [
    "# create dict for Stan\n",
    "stan_data = {\n",
    "    \"N_slots\": N_slots,\n",
    "    \"cost\": cost,\n",
    "    \"u\": bid,\n",
    "    \"weights\": weights\n",
    "}"
   ]
  },
  {
   "cell_type": "code",
   "execution_count": 24,
   "metadata": {},
   "outputs": [
    {
     "name": "stderr",
     "output_type": "stream",
     "text": [
      "INFO:pystan:COMPILING THE C++ CODE FOR MODEL anon_model_df201d4308966a8224bf56747b2d5b03 NOW.\n"
     ]
    }
   ],
   "source": [
    "# define Stan file\n",
    "stanfile = 'stanfiles/cost_linearization.stan'\n",
    "sm = pystan.StanModel(file=stanfile)"
   ]
  },
  {
   "cell_type": "code",
   "execution_count": 25,
   "metadata": {},
   "outputs": [],
   "source": [
    "# run Stan model\n",
    "fit = sm.sampling(data=stan_data, chains=4, iter=2000, n_jobs=1)"
   ]
  },
  {
   "cell_type": "code",
   "execution_count": 26,
   "metadata": {},
   "outputs": [
    {
     "data": {
      "text/plain": [
       "Inference for Stan model: anon_model_df201d4308966a8224bf56747b2d5b03.\n",
       "4 chains, each with iter=2000; warmup=1000; thin=1; \n",
       "post-warmup draws per chain=1000, total post-warmup draws=4000.\n",
       "\n",
       "        mean se_mean     sd   2.5%    25%    50%    75%  97.5%  n_eff   Rhat\n",
       "a       0.41  5.0e-3   0.18   0.06    0.3   0.41   0.52   0.77   1276    1.0\n",
       "b       0.25  8.5e-3    0.3  -0.33   0.06   0.25   0.44   0.83   1241    1.0\n",
       "sigma   0.34  2.4e-3   0.09   0.21   0.27   0.32   0.38   0.57   1535    1.0\n",
       "lp__    5.07    0.04   1.46   1.06   4.46   5.46   6.14    6.7   1127    1.0\n",
       "\n",
       "Samples were drawn using NUTS at Mon Jun 29 23:03:11 2020.\n",
       "For each parameter, n_eff is a crude measure of effective sample size,\n",
       "and Rhat is the potential scale reduction factor on split chains (at \n",
       "convergence, Rhat=1)."
      ]
     },
     "execution_count": 26,
     "metadata": {},
     "output_type": "execute_result"
    }
   ],
   "source": [
    "fit"
   ]
  },
  {
   "cell_type": "code",
   "execution_count": null,
   "metadata": {},
   "outputs": [],
   "source": []
  }
 ],
 "metadata": {
  "kernelspec": {
   "display_name": "Python 3",
   "language": "python",
   "name": "python3"
  },
  "language_info": {
   "codemirror_mode": {
    "name": "ipython",
    "version": 3
   },
   "file_extension": ".py",
   "mimetype": "text/x-python",
   "name": "python",
   "nbconvert_exporter": "python",
   "pygments_lexer": "ipython3",
   "version": "3.6.9"
  }
 },
 "nbformat": 4,
 "nbformat_minor": 4
}
